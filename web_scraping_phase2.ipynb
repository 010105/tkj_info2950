{
 "cells": [
  {
   "cell_type": "code",
   "execution_count": 20,
   "id": "10e4a2d4",
   "metadata": {},
   "outputs": [],
   "source": [
    "import requests \n",
    "from requests import get\n",
    "from bs4 import BeautifulSoup"
   ]
  },
  {
   "cell_type": "code",
   "execution_count": 48,
   "id": "b61a554f",
   "metadata": {},
   "outputs": [],
   "source": [
    "url = \"https://forecast.weather.gov/stations.php\"\n",
    "url = requests.get(url)\n",
    "if url.status_code != 200:\n",
    "  print(\"something went wrong:\", timeline_result.status_code, timeline_result.reason)"
   ]
  },
  {
   "cell_type": "code",
   "execution_count": null,
   "id": "30e4f33d",
   "metadata": {},
   "outputs": [],
   "source": []
  },
  {
   "cell_type": "code",
   "execution_count": 60,
   "id": "f3c226fe",
   "metadata": {},
   "outputs": [
    {
     "name": "stdout",
     "output_type": "stream",
     "text": [
      "2145\n"
     ]
    }
   ],
   "source": [
    "soup=BeautifulSoup(response.text, 'html.parser')\n",
    "soup.title.text\n",
    "#result = soup.find_all(\"div\", {\"class\":\"/tr\"})\n",
    "result = soup.find_all(\"tr\")\n",
    "print(len(result))"
   ]
  },
  {
   "cell_type": "code",
   "execution_count": 66,
   "id": "1e2741f7",
   "metadata": {},
   "outputs": [
    {
     "ename": "AttributeError",
     "evalue": "'NoneType' object has no attribute 'text'",
     "output_type": "error",
     "traceback": [
      "\u001b[0;31m---------------------------------------------------------------------------\u001b[0m",
      "\u001b[0;31mAttributeError\u001b[0m                            Traceback (most recent call last)",
      "Cell \u001b[0;32mIn[66], line 4\u001b[0m\n\u001b[1;32m      1\u001b[0m stid, latitude, longitude \u001b[38;5;241m=\u001b[39m [],[],[]\n\u001b[1;32m      3\u001b[0m \u001b[38;5;28;01mfor\u001b[39;00m event \u001b[38;5;129;01min\u001b[39;00m result:\n\u001b[0;32m----> 4\u001b[0m         stid\u001b[38;5;241m.\u001b[39mappend(\u001b[43mevent\u001b[49m\u001b[38;5;241;43m.\u001b[39;49m\u001b[43mfind\u001b[49m\u001b[43m(\u001b[49m\u001b[38;5;124;43m\"\u001b[39;49m\u001b[38;5;124;43mtr\u001b[39;49m\u001b[38;5;124;43m\"\u001b[39;49m\u001b[43m)\u001b[49m\u001b[38;5;241;43m.\u001b[39;49m\u001b[43mtext\u001b[49m\u001b[38;5;241m.\u001b[39mstrip())\n",
      "\u001b[0;31mAttributeError\u001b[0m: 'NoneType' object has no attribute 'text'"
     ]
    }
   ],
   "source": [
    "stid, latitude, longitude = [],[],[]\n",
    "\n",
    "for event in result:\n",
    "        stid.append(event.find(\"tr\").text.strip())"
   ]
  },
  {
   "cell_type": "code",
   "execution_count": 71,
   "id": "02f9c905",
   "metadata": {},
   "outputs": [
    {
     "name": "stdout",
     "output_type": "stream",
     "text": [
      "EB01  36.5-73.50\n"
     ]
    }
   ],
   "source": [
    "parseString=result[6].text.strip() #start\n",
    "\n",
    "print(parseString)"
   ]
  },
  {
   "cell_type": "code",
   "execution_count": null,
   "id": "86d2d96f",
   "metadata": {},
   "outputs": [],
   "source": [
    "stid = [stat.find(\"div\", {\"class\": \"item-year\"}).text.strip() for stat in timeline_stats]"
   ]
  },
  {
   "cell_type": "code",
   "execution_count": 17,
   "id": "b321a5de",
   "metadata": {},
   "outputs": [
    {
     "name": "stdout",
     "output_type": "stream",
     "text": [
      "404\n"
     ]
    }
   ],
   "source": [
    "r = requests.get(\"https://api.weather.gov/stations/{K0F2}/tafs/{Date(2022-02-03)}/{Time(0500)}\")\n",
    "print(r.status_code)\n",
    "\n",
    "# print(r.json())"
   ]
  },
  {
   "cell_type": "code",
   "execution_count": 15,
   "id": "752d041e",
   "metadata": {},
   "outputs": [
    {
     "data": {
      "text/plain": [
       "{'correlationId': 'b5fe792',\n",
       " 'parameterErrors': [{'parameter': 'path.date',\n",
       "   'message': 'Invalid date \"{2022-02-03}\", expected format YYYY-MM-DD'},\n",
       "  {'parameter': 'path.time',\n",
       "   'message': 'Does not match the regex pattern ^([01][0-9]|2[0-3])[0-5][0-9]$'}],\n",
       " 'title': 'Not Found',\n",
       " 'type': 'https://api.weather.gov/problems/NotFound',\n",
       " 'status': 404,\n",
       " 'detail': 'Not Found',\n",
       " 'instance': 'https://api.weather.gov/requests/b5fe792'}"
      ]
     },
     "execution_count": 15,
     "metadata": {},
     "output_type": "execute_result"
    }
   ],
   "source": [
    "r.json()"
   ]
  },
  {
   "cell_type": "code",
   "execution_count": null,
   "id": "4a32f36d",
   "metadata": {},
   "outputs": [],
   "source": []
  }
 ],
 "metadata": {
  "kernelspec": {
   "display_name": "Python 3 (ipykernel)",
   "language": "python",
   "name": "python3"
  },
  "language_info": {
   "codemirror_mode": {
    "name": "ipython",
    "version": 3
   },
   "file_extension": ".py",
   "mimetype": "text/x-python",
   "name": "python",
   "nbconvert_exporter": "python",
   "pygments_lexer": "ipython3",
   "version": "3.9.17"
  }
 },
 "nbformat": 4,
 "nbformat_minor": 5
}
